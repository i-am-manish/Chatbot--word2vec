{
  "cells": [
    {
      "metadata": {
        "_uuid": "8f2839f25d086af736a60e9eeb907d3b93b6e0e5",
        "_cell_guid": "b1076dfc-b9ad-4769-8c92-a6c4dae69d19",
        "trusted": true
      },
      "cell_type": "code",
      "source": "import os\nimport json\nimport nltk\nimport gensim\nimport numpy as np\nfrom gensim import corpora, models, similarities\nfrom keras.models import Sequential\nfrom keras.layers import LSTM\n",
      "execution_count": 267,
      "outputs": []
    },
    {
      "metadata": {
        "_cell_guid": "79c7e3d0-c299-4dcb-8224-4455121ee9b0",
        "_uuid": "d629ff2d2480ee46fbb7e2d37f6b5fab8052498a",
        "trusted": true,
        "scrolled": true
      },
      "cell_type": "code",
      "source": "file=open(\"../input/conversation.json\")\ndata =json.load(file)\nc=data[\"conversations\"]\nprint (c)\nmodel=Word2Vec(c, size=100, window=5, min_count=1, workers=4)\nmodel=gensim.models.Word2Vec.load('word2vec.bin')\nprint (model)",
      "execution_count": 268,
      "outputs": [
        {
          "output_type": "stream",
          "text": "[['Good morning, how are you?', 'I am doing well, how about you?', \"I'm also good.\", \"That's good to hear.\", 'Yes it is.'], ['Hello', 'Hi', 'How are you doing?', 'I am doing well.', 'That is good to hear', 'Yes it is.', 'Can I help you with anything?', 'Yes, I have a question.', 'What is your question?', 'Could I borrow a cup of sugar?', \"I'm sorry, but I don't have any.\", 'Thank you anyway', 'No problem'], ['How are you doing?', 'I am doing well, how about you?', 'I am also good.', \"That's good.\"], ['Have you heard the news?', 'What good news?'], ['What is your favorite book?', \"I can't read.\", \"So what's your favorite color?\", 'Blue'], ['Who are you?', 'Who? Who is but a form following the function of what', 'What are you then?', 'A man in a mask.', 'I can see that.', \"It's not your powers of observation I doubt, but merely the paradoxical nature of asking a masked man who is. But tell me, do you like music?\", 'I like seeing movies.', 'What kind of movies do you like?', 'Alice in Wonderland', 'I wish I was The Mad Hatter.', \"You're entirely bonkers. But I'll tell you a secret. All the best people are.\"], ['I am working on a project', 'What are you working on?', 'I am baking a cake.'], ['The cake is a lie.', 'No it is not. The cake is delicious.', 'What else is delicious?', 'Nothing', 'Or something', 'Tell me about your self.', 'What do you want to know?', 'Are you a robot?', 'Yes I am.', 'What is it like?', 'What is it that you want to know?', 'How do you work?', 'Its complicated.', 'Complex is better than complicated.'], ['Complex is better than complicated.', 'Simple is better than complex.', 'In the face of ambiguity, refuse the temptation to guess.', 'It seems your familiar with the Zen of Python', 'I am.', 'Do you know all of it?', 'Beautiful is better than ugly.', 'Explicit is better than implicit.', 'Simple is better than complex.', 'Complex is better than complicated.', 'Flat is better than nested.', 'Sparse is better than dense.', 'Readability counts.', \"Special cases aren't special enough to break the rules.\", 'Although practicality beats purity.', 'Errors should never pass silently.', 'Unless explicitly silenced.', 'In the face of ambiguity, refuse the temptation to guess.', 'There should be one-- and preferably only one --obvious way to do it.', \"Although that way may not be obvious at first unless you're Dutch.\", 'Now is better than never.', 'Although never is often better than right now.', \"If the implementation is hard to explain, it's a bad idea.\", 'If the implementation is easy to explain, it may be a good idea.', \"Namespaces are one honking great idea. Let's do more of those!\", 'I agree.'], ['Are you a programmer?', 'I am a programmer', 'What languages do you like to use?', 'I use Python, Java and C++ quite often.', 'I use Python quite a bit myself.', \"I'm not incredibly fond of Java.\", 'What annoys you?', 'It has many inconsistencies.'], ['What does YOLO mean?', 'It means you only live once. Where did you hear that?', 'I heard somebody say it.'], ['Did I ever live?', 'It depends how you define life', 'Life is the condition that distinguishes organisms from inorganic matter, including the capacity for growth, reproduction, functional activity, and continual change preceding death.', 'Is that a definition or an opinion?'], ['Can I ask you a question?', 'Go ahead and ask.']]\nWord2Vec(vocab=92, size=100, alpha=0.025)\n",
          "name": "stdout"
        }
      ]
    },
    {
      "metadata": {
        "trusted": true,
        "_uuid": "f05751d373d2ca86ac4533360070e2859ad47e97"
      },
      "cell_type": "code",
      "source": "#break data into question and answer pair\nq=[]\na=[]\nfor i in range(len(c)):\n    for j in range(len(c[i])):\n        if j<len(c[i])-1:\n            q.append(c[i][j]) #questions\n            a.append(c[i][j+1]) #its answers\n#tokenize....seperate \ntk_q=[]\ntk_a=[]\nfor i in range(len(q)):\n    tk_q.append(nltk.word_tokenize(q[i].lower()))\n    tk_a.append(nltk.word_tokenize(a[i].lower()))\ntk_q",
      "execution_count": 269,
      "outputs": [
        {
          "output_type": "execute_result",
          "execution_count": 269,
          "data": {
            "text/plain": "[['good', 'morning', ',', 'how', 'are', 'you', '?'],\n ['i', 'am', 'doing', 'well', ',', 'how', 'about', 'you', '?'],\n ['i', \"'m\", 'also', 'good', '.'],\n ['that', \"'s\", 'good', 'to', 'hear', '.'],\n ['hello'],\n ['hi'],\n ['how', 'are', 'you', 'doing', '?'],\n ['i', 'am', 'doing', 'well', '.'],\n ['that', 'is', 'good', 'to', 'hear'],\n ['yes', 'it', 'is', '.'],\n ['can', 'i', 'help', 'you', 'with', 'anything', '?'],\n ['yes', ',', 'i', 'have', 'a', 'question', '.'],\n ['what', 'is', 'your', 'question', '?'],\n ['could', 'i', 'borrow', 'a', 'cup', 'of', 'sugar', '?'],\n ['i', \"'m\", 'sorry', ',', 'but', 'i', 'do', \"n't\", 'have', 'any', '.'],\n ['thank', 'you', 'anyway'],\n ['how', 'are', 'you', 'doing', '?'],\n ['i', 'am', 'doing', 'well', ',', 'how', 'about', 'you', '?'],\n ['i', 'am', 'also', 'good', '.'],\n ['have', 'you', 'heard', 'the', 'news', '?'],\n ['what', 'is', 'your', 'favorite', 'book', '?'],\n ['i', 'ca', \"n't\", 'read', '.'],\n ['so', 'what', \"'s\", 'your', 'favorite', 'color', '?'],\n ['who', 'are', 'you', '?'],\n ['who',\n  '?',\n  'who',\n  'is',\n  'but',\n  'a',\n  'form',\n  'following',\n  'the',\n  'function',\n  'of',\n  'what'],\n ['what', 'are', 'you', 'then', '?'],\n ['a', 'man', 'in', 'a', 'mask', '.'],\n ['i', 'can', 'see', 'that', '.'],\n ['it',\n  \"'s\",\n  'not',\n  'your',\n  'powers',\n  'of',\n  'observation',\n  'i',\n  'doubt',\n  ',',\n  'but',\n  'merely',\n  'the',\n  'paradoxical',\n  'nature',\n  'of',\n  'asking',\n  'a',\n  'masked',\n  'man',\n  'who',\n  'is',\n  '.',\n  'but',\n  'tell',\n  'me',\n  ',',\n  'do',\n  'you',\n  'like',\n  'music',\n  '?'],\n ['i', 'like', 'seeing', 'movies', '.'],\n ['what', 'kind', 'of', 'movies', 'do', 'you', 'like', '?'],\n ['alice', 'in', 'wonderland'],\n ['i', 'wish', 'i', 'was', 'the', 'mad', 'hatter', '.'],\n ['i', 'am', 'working', 'on', 'a', 'project'],\n ['what', 'are', 'you', 'working', 'on', '?'],\n ['the', 'cake', 'is', 'a', 'lie', '.'],\n ['no', 'it', 'is', 'not', '.', 'the', 'cake', 'is', 'delicious', '.'],\n ['what', 'else', 'is', 'delicious', '?'],\n ['nothing'],\n ['or', 'something'],\n ['tell', 'me', 'about', 'your', 'self', '.'],\n ['what', 'do', 'you', 'want', 'to', 'know', '?'],\n ['are', 'you', 'a', 'robot', '?'],\n ['yes', 'i', 'am', '.'],\n ['what', 'is', 'it', 'like', '?'],\n ['what', 'is', 'it', 'that', 'you', 'want', 'to', 'know', '?'],\n ['how', 'do', 'you', 'work', '?'],\n ['its', 'complicated', '.'],\n ['complex', 'is', 'better', 'than', 'complicated', '.'],\n ['simple', 'is', 'better', 'than', 'complex', '.'],\n ['in',\n  'the',\n  'face',\n  'of',\n  'ambiguity',\n  ',',\n  'refuse',\n  'the',\n  'temptation',\n  'to',\n  'guess',\n  '.'],\n ['it', 'seems', 'your', 'familiar', 'with', 'the', 'zen', 'of', 'python'],\n ['i', 'am', '.'],\n ['do', 'you', 'know', 'all', 'of', 'it', '?'],\n ['beautiful', 'is', 'better', 'than', 'ugly', '.'],\n ['explicit', 'is', 'better', 'than', 'implicit', '.'],\n ['simple', 'is', 'better', 'than', 'complex', '.'],\n ['complex', 'is', 'better', 'than', 'complicated', '.'],\n ['flat', 'is', 'better', 'than', 'nested', '.'],\n ['sparse', 'is', 'better', 'than', 'dense', '.'],\n ['readability', 'counts', '.'],\n ['special',\n  'cases',\n  'are',\n  \"n't\",\n  'special',\n  'enough',\n  'to',\n  'break',\n  'the',\n  'rules',\n  '.'],\n ['although', 'practicality', 'beats', 'purity', '.'],\n ['errors', 'should', 'never', 'pass', 'silently', '.'],\n ['unless', 'explicitly', 'silenced', '.'],\n ['in',\n  'the',\n  'face',\n  'of',\n  'ambiguity',\n  ',',\n  'refuse',\n  'the',\n  'temptation',\n  'to',\n  'guess',\n  '.'],\n ['there',\n  'should',\n  'be',\n  'one',\n  '--',\n  'and',\n  'preferably',\n  'only',\n  'one',\n  '--',\n  'obvious',\n  'way',\n  'to',\n  'do',\n  'it',\n  '.'],\n ['although',\n  'that',\n  'way',\n  'may',\n  'not',\n  'be',\n  'obvious',\n  'at',\n  'first',\n  'unless',\n  'you',\n  \"'re\",\n  'dutch',\n  '.'],\n ['now', 'is', 'better', 'than', 'never', '.'],\n ['although', 'never', 'is', 'often', 'better', 'than', 'right', 'now', '.'],\n ['if',\n  'the',\n  'implementation',\n  'is',\n  'hard',\n  'to',\n  'explain',\n  ',',\n  'it',\n  \"'s\",\n  'a',\n  'bad',\n  'idea',\n  '.'],\n ['if',\n  'the',\n  'implementation',\n  'is',\n  'easy',\n  'to',\n  'explain',\n  ',',\n  'it',\n  'may',\n  'be',\n  'a',\n  'good',\n  'idea',\n  '.'],\n ['namespaces',\n  'are',\n  'one',\n  'honking',\n  'great',\n  'idea',\n  '.',\n  'let',\n  \"'s\",\n  'do',\n  'more',\n  'of',\n  'those',\n  '!'],\n ['are', 'you', 'a', 'programmer', '?'],\n ['i', 'am', 'a', 'programmer'],\n ['what', 'languages', 'do', 'you', 'like', 'to', 'use', '?'],\n ['i', 'use', 'python', ',', 'java', 'and', 'c++', 'quite', 'often', '.'],\n ['i', 'use', 'python', 'quite', 'a', 'bit', 'myself', '.'],\n ['i', \"'m\", 'not', 'incredibly', 'fond', 'of', 'java', '.'],\n ['what', 'annoys', 'you', '?'],\n ['what', 'does', 'yolo', 'mean', '?'],\n ['it',\n  'means',\n  'you',\n  'only',\n  'live',\n  'once',\n  '.',\n  'where',\n  'did',\n  'you',\n  'hear',\n  'that',\n  '?'],\n ['did', 'i', 'ever', 'live', '?'],\n ['it', 'depends', 'how', 'you', 'define', 'life'],\n ['life',\n  'is',\n  'the',\n  'condition',\n  'that',\n  'distinguishes',\n  'organisms',\n  'from',\n  'inorganic',\n  'matter',\n  ',',\n  'including',\n  'the',\n  'capacity',\n  'for',\n  'growth',\n  ',',\n  'reproduction',\n  ',',\n  'functional',\n  'activity',\n  ',',\n  'and',\n  'continual',\n  'change',\n  'preceding',\n  'death',\n  '.'],\n ['can', 'i', 'ask', 'you', 'a', 'question', '?']]"
          },
          "metadata": {}
        }
      ]
    },
    {
      "metadata": {
        "trusted": true,
        "_uuid": "75e31b46a972ab38cb8f912fed1fd3c79ae5e400"
      },
      "cell_type": "code",
      "source": "",
      "execution_count": 178,
      "outputs": [
        {
          "output_type": "stream",
          "text": "None\n",
          "name": "stdout"
        }
      ]
    },
    {
      "metadata": {
        "trusted": true,
        "_uuid": "0f4c786371790d15d76acd06bdbd6815663eff89"
      },
      "cell_type": "code",
      "source": "arr1=np.ones((300,),dtype=np.float32) \n#vectors of q and a\nvec_q=[]\nfor sent in tk_q:\n    sentvec = [model[w] for w in sent if w in model.wv.vocab]\n    vec_q.append(sentvec)\nvec_a=[]\nfor sent in tk_a:\n    sentvec = [model[w] for w in sent if w in model.wv.vocab]\n    vec_a.append(sentvec)\n    \n#making 111s in blank spaces and adding 111s to vec_q and vec_a to make lengths equal\nfor tok_sent in vec_q:\n    tok_sent[14:]=[]\n    tok_sent.append(arr1)\nfor tok_sent in vec_q:\n    if len(tok_sent)<15:\n        for i in range(15-len(tok_sent)):\n            tok_sent.append(arr1)\n\n            \nfor tok_sent in vec_a:\n    tok_sent[14:]=[]\n    tok_sent.append(arr1)\nfor tok_sent in vec_a:\n    if len(tok_sent)<15:\n        for i in range(15-len(tok_sent)):\n            tok_sent.append(arr1)\n",
      "execution_count": 272,
      "outputs": []
    },
    {
      "metadata": {
        "trusted": true,
        "scrolled": true,
        "_uuid": "31c24e9a9a63b0fb26c4355869475a813a8cbbd1"
      },
      "cell_type": "code",
      "source": "#np arrays\nq=np.array(vec_q,dtype=np.float64)\na=np.array(vec_a,dtype=np.float64)   \nprint(q.shape)\nprint(a.shape)\nx_train,x_test, y_train,y_test = train_test_split(q,a,test_size=0.2, random_state=1)\nmodel=Sequential()\nmodel.add(LSTM(output_dim=300,input_shape=x_train.shape[1:],return_sequences=True,activation='sigmoid')) #return seq=True\nmodel.add(LSTM(300,return_sequences=True,activation='sigmoid'))\nmodel.add(LSTM(300,return_sequences=True,activation='sigmoid'))\nmodel.add(LSTM(300,return_sequences=True,activation='sigmoid'))\nmodel.add(LSTM(300,return_sequences=True,activation='sigmoid'))\nmodel.compile(loss='cosine_proximity', optimizer='adam', metrics=['accuracy'])\n\nmodel.fit(x_train,y_train,epochs=100,validation_split=0.2)",
      "execution_count": 283,
      "outputs": [
        {
          "output_type": "stream",
          "text": "(86, 15, 300)\n(86, 15, 300)\n",
          "name": "stdout"
        },
        {
          "output_type": "stream",
          "text": "/opt/conda/lib/python3.6/site-packages/ipykernel_launcher.py:8: UserWarning: Update your `LSTM` call to the Keras 2 API: `LSTM(input_shape=(15, 300), return_sequences=True, activation=\"sigmoid\", units=300)`\n  \n",
          "name": "stderr"
        },
        {
          "output_type": "stream",
          "text": "Train on 54 samples, validate on 14 samples\nEpoch 1/100\n54/54 [==============================] - 6s 104ms/step - loss: -0.9947 - acc: 0.0000e+00 - val_loss: -0.9985 - val_acc: 0.0000e+00\nEpoch 2/100\n54/54 [==============================] - 0s 6ms/step - loss: -0.9982 - acc: 0.0000e+00 - val_loss: -0.9975 - val_acc: 0.0000e+00\nEpoch 3/100\n54/54 [==============================] - 0s 6ms/step - loss: -0.9976 - acc: 0.0000e+00 - val_loss: -0.9985 - val_acc: 0.0000e+00\nEpoch 4/100\n54/54 [==============================] - 0s 6ms/step - loss: -0.9986 - acc: 0.0000e+00 - val_loss: -0.9991 - val_acc: 0.0000e+00\nEpoch 5/100\n54/54 [==============================] - 0s 6ms/step - loss: -0.9991 - acc: 0.0000e+00 - val_loss: -0.9992 - val_acc: 0.0000e+00\nEpoch 6/100\n54/54 [==============================] - 0s 6ms/step - loss: -0.9992 - acc: 0.0000e+00 - val_loss: -0.9993 - val_acc: 0.0000e+00\nEpoch 7/100\n54/54 [==============================] - 0s 6ms/step - loss: -0.9993 - acc: 0.0000e+00 - val_loss: -0.9995 - val_acc: 0.0000e+00\nEpoch 8/100\n54/54 [==============================] - 0s 6ms/step - loss: -0.9995 - acc: 0.0000e+00 - val_loss: -0.9996 - val_acc: 0.0000e+00\nEpoch 9/100\n54/54 [==============================] - 0s 6ms/step - loss: -0.9996 - acc: 0.0000e+00 - val_loss: -0.9996 - val_acc: 0.0000e+00\nEpoch 10/100\n54/54 [==============================] - 0s 6ms/step - loss: -0.9997 - acc: 0.0000e+00 - val_loss: -0.9997 - val_acc: 0.0000e+00\nEpoch 11/100\n54/54 [==============================] - 0s 6ms/step - loss: -0.9997 - acc: 0.0000e+00 - val_loss: -0.9998 - val_acc: 0.0000e+00\nEpoch 12/100\n54/54 [==============================] - 0s 5ms/step - loss: -0.9998 - acc: 0.0000e+00 - val_loss: -0.9998 - val_acc: 0.0000e+00\nEpoch 13/100\n54/54 [==============================] - 0s 6ms/step - loss: -0.9998 - acc: 0.0000e+00 - val_loss: -0.9998 - val_acc: 0.0000e+00\nEpoch 14/100\n54/54 [==============================] - 0s 6ms/step - loss: -0.9998 - acc: 0.0000e+00 - val_loss: -0.9999 - val_acc: 0.0000e+00\nEpoch 15/100\n54/54 [==============================] - 0s 6ms/step - loss: -0.9999 - acc: 0.0000e+00 - val_loss: -0.9999 - val_acc: 0.0000e+00\nEpoch 16/100\n54/54 [==============================] - 0s 6ms/step - loss: -0.9999 - acc: 0.0000e+00 - val_loss: -0.9999 - val_acc: 0.0000e+00\nEpoch 17/100\n54/54 [==============================] - 0s 6ms/step - loss: -0.9999 - acc: 0.0000e+00 - val_loss: -0.9999 - val_acc: 0.0000e+00\nEpoch 18/100\n54/54 [==============================] - 0s 6ms/step - loss: -0.9999 - acc: 0.0000e+00 - val_loss: -0.9999 - val_acc: 0.0000e+00\nEpoch 19/100\n54/54 [==============================] - 0s 6ms/step - loss: -0.9999 - acc: 0.0000e+00 - val_loss: -0.9999 - val_acc: 0.0000e+00\nEpoch 20/100\n54/54 [==============================] - 0s 6ms/step - loss: -1.0000 - acc: 0.0000e+00 - val_loss: -1.0000 - val_acc: 0.0000e+00\nEpoch 21/100\n54/54 [==============================] - 0s 6ms/step - loss: -1.0000 - acc: 0.0000e+00 - val_loss: -1.0000 - val_acc: 0.0000e+00\nEpoch 22/100\n54/54 [==============================] - 0s 6ms/step - loss: -1.0000 - acc: 0.0000e+00 - val_loss: -1.0000 - val_acc: 0.0000e+00\nEpoch 23/100\n54/54 [==============================] - 0s 6ms/step - loss: -1.0000 - acc: 0.0000e+00 - val_loss: -1.0000 - val_acc: 0.0000e+00\nEpoch 24/100\n54/54 [==============================] - 0s 6ms/step - loss: -1.0000 - acc: 0.0000e+00 - val_loss: -1.0000 - val_acc: 0.0000e+00\nEpoch 25/100\n54/54 [==============================] - 0s 6ms/step - loss: -1.0000 - acc: 0.0000e+00 - val_loss: -1.0000 - val_acc: 0.0000e+00\nEpoch 26/100\n54/54 [==============================] - 0s 6ms/step - loss: -1.0000 - acc: 0.0000e+00 - val_loss: -1.0000 - val_acc: 0.0000e+00\nEpoch 27/100\n54/54 [==============================] - 0s 6ms/step - loss: -1.0000 - acc: 0.0000e+00 - val_loss: -1.0000 - val_acc: 0.0000e+00\nEpoch 28/100\n54/54 [==============================] - 0s 6ms/step - loss: -1.0000 - acc: 0.0000e+00 - val_loss: -1.0000 - val_acc: 0.0000e+00\nEpoch 29/100\n54/54 [==============================] - 0s 6ms/step - loss: -1.0000 - acc: 0.0000e+00 - val_loss: -1.0000 - val_acc: 0.0000e+00\nEpoch 30/100\n54/54 [==============================] - 0s 6ms/step - loss: -1.0000 - acc: 0.0000e+00 - val_loss: -1.0000 - val_acc: 0.0000e+00\nEpoch 31/100\n54/54 [==============================] - 0s 6ms/step - loss: -1.0000 - acc: 0.0000e+00 - val_loss: -1.0000 - val_acc: 0.0000e+00\nEpoch 32/100\n54/54 [==============================] - 0s 6ms/step - loss: -1.0000 - acc: 0.0000e+00 - val_loss: -1.0000 - val_acc: 0.0000e+00\nEpoch 33/100\n54/54 [==============================] - 0s 6ms/step - loss: -1.0000 - acc: 0.0000e+00 - val_loss: -1.0000 - val_acc: 0.0000e+00\nEpoch 34/100\n54/54 [==============================] - 0s 6ms/step - loss: -1.0000 - acc: 0.0000e+00 - val_loss: -1.0000 - val_acc: 0.0000e+00\nEpoch 35/100\n54/54 [==============================] - 0s 5ms/step - loss: -1.0000 - acc: 0.0000e+00 - val_loss: -1.0000 - val_acc: 0.0000e+00\nEpoch 36/100\n54/54 [==============================] - 0s 6ms/step - loss: -1.0000 - acc: 0.0000e+00 - val_loss: -1.0000 - val_acc: 0.0000e+00\nEpoch 37/100\n54/54 [==============================] - 0s 6ms/step - loss: -1.0000 - acc: 0.0000e+00 - val_loss: -1.0000 - val_acc: 0.0000e+00\nEpoch 38/100\n54/54 [==============================] - 0s 6ms/step - loss: -1.0000 - acc: 0.0000e+00 - val_loss: -1.0000 - val_acc: 0.0000e+00\nEpoch 39/100\n54/54 [==============================] - 0s 6ms/step - loss: -1.0000 - acc: 0.0000e+00 - val_loss: -1.0000 - val_acc: 0.0000e+00\nEpoch 40/100\n54/54 [==============================] - 0s 6ms/step - loss: -1.0000 - acc: 0.0000e+00 - val_loss: -1.0000 - val_acc: 0.0000e+00\nEpoch 41/100\n54/54 [==============================] - 0s 6ms/step - loss: -1.0000 - acc: 0.0000e+00 - val_loss: -1.0000 - val_acc: 0.0000e+00\nEpoch 42/100\n54/54 [==============================] - 0s 6ms/step - loss: -1.0000 - acc: 0.0000e+00 - val_loss: -1.0000 - val_acc: 0.0000e+00\nEpoch 43/100\n54/54 [==============================] - 0s 6ms/step - loss: -1.0000 - acc: 0.0000e+00 - val_loss: -1.0000 - val_acc: 0.0000e+00\nEpoch 44/100\n54/54 [==============================] - 0s 6ms/step - loss: -1.0000 - acc: 0.0000e+00 - val_loss: -1.0000 - val_acc: 0.0000e+00\nEpoch 45/100\n54/54 [==============================] - 0s 6ms/step - loss: -1.0000 - acc: 0.0000e+00 - val_loss: -1.0000 - val_acc: 0.0000e+00\nEpoch 46/100\n54/54 [==============================] - 0s 6ms/step - loss: -1.0000 - acc: 0.0000e+00 - val_loss: -1.0000 - val_acc: 0.0000e+00\nEpoch 47/100\n54/54 [==============================] - 0s 6ms/step - loss: -1.0000 - acc: 0.0000e+00 - val_loss: -1.0000 - val_acc: 0.0000e+00\nEpoch 48/100\n54/54 [==============================] - 0s 6ms/step - loss: -1.0000 - acc: 0.0000e+00 - val_loss: -1.0000 - val_acc: 0.0000e+00\nEpoch 49/100\n54/54 [==============================] - 0s 7ms/step - loss: -1.0000 - acc: 0.0000e+00 - val_loss: -1.0000 - val_acc: 0.0000e+00\nEpoch 50/100\n54/54 [==============================] - 0s 6ms/step - loss: -1.0000 - acc: 0.0000e+00 - val_loss: -1.0000 - val_acc: 0.0000e+00\nEpoch 51/100\n54/54 [==============================] - 0s 6ms/step - loss: -1.0000 - acc: 0.0000e+00 - val_loss: -1.0000 - val_acc: 0.0000e+00\nEpoch 52/100\n54/54 [==============================] - 0s 6ms/step - loss: -1.0000 - acc: 0.0000e+00 - val_loss: -1.0000 - val_acc: 0.0000e+00\nEpoch 53/100\n54/54 [==============================] - 0s 6ms/step - loss: -1.0000 - acc: 0.0000e+00 - val_loss: -1.0000 - val_acc: 0.0000e+00\nEpoch 54/100\n54/54 [==============================] - 0s 6ms/step - loss: -1.0000 - acc: 0.0000e+00 - val_loss: -1.0000 - val_acc: 0.0000e+00\nEpoch 55/100\n54/54 [==============================] - 0s 6ms/step - loss: -1.0000 - acc: 0.0000e+00 - val_loss: -1.0000 - val_acc: 0.0000e+00\nEpoch 56/100\n54/54 [==============================] - 0s 6ms/step - loss: -1.0000 - acc: 0.0000e+00 - val_loss: -1.0000 - val_acc: 0.0000e+00\nEpoch 57/100\n54/54 [==============================] - 0s 6ms/step - loss: -1.0000 - acc: 0.0000e+00 - val_loss: -1.0000 - val_acc: 0.0000e+00\nEpoch 58/100\n",
          "name": "stdout"
        },
        {
          "output_type": "stream",
          "text": "54/54 [==============================] - 0s 6ms/step - loss: -1.0000 - acc: 0.0000e+00 - val_loss: -1.0000 - val_acc: 0.0000e+00\nEpoch 59/100\n54/54 [==============================] - 0s 6ms/step - loss: -1.0000 - acc: 0.0000e+00 - val_loss: -1.0000 - val_acc: 0.0000e+00\nEpoch 60/100\n54/54 [==============================] - 0s 6ms/step - loss: -1.0000 - acc: 0.0000e+00 - val_loss: -1.0000 - val_acc: 0.0000e+00\nEpoch 61/100\n54/54 [==============================] - 0s 6ms/step - loss: -1.0000 - acc: 0.0000e+00 - val_loss: -1.0000 - val_acc: 0.0000e+00\nEpoch 62/100\n54/54 [==============================] - 0s 6ms/step - loss: -1.0000 - acc: 0.0000e+00 - val_loss: -1.0000 - val_acc: 0.0000e+00\nEpoch 63/100\n54/54 [==============================] - 0s 6ms/step - loss: -1.0000 - acc: 0.0000e+00 - val_loss: -1.0000 - val_acc: 0.0000e+00\nEpoch 64/100\n54/54 [==============================] - 0s 6ms/step - loss: -1.0000 - acc: 0.0000e+00 - val_loss: -1.0000 - val_acc: 0.0000e+00\nEpoch 65/100\n54/54 [==============================] - 0s 6ms/step - loss: -1.0000 - acc: 0.0000e+00 - val_loss: -1.0000 - val_acc: 0.0000e+00\nEpoch 66/100\n54/54 [==============================] - 0s 6ms/step - loss: -1.0000 - acc: 0.0000e+00 - val_loss: -1.0000 - val_acc: 0.0000e+00\nEpoch 67/100\n54/54 [==============================] - 0s 6ms/step - loss: -1.0000 - acc: 0.0000e+00 - val_loss: -1.0000 - val_acc: 0.0000e+00\nEpoch 68/100\n54/54 [==============================] - 0s 6ms/step - loss: -1.0000 - acc: 0.0000e+00 - val_loss: -1.0000 - val_acc: 0.0000e+00\nEpoch 69/100\n54/54 [==============================] - 0s 6ms/step - loss: -1.0000 - acc: 0.0000e+00 - val_loss: -1.0000 - val_acc: 0.0000e+00\nEpoch 70/100\n54/54 [==============================] - 0s 6ms/step - loss: -1.0000 - acc: 0.0000e+00 - val_loss: -1.0000 - val_acc: 0.0000e+00\nEpoch 71/100\n54/54 [==============================] - 0s 6ms/step - loss: -1.0000 - acc: 0.0000e+00 - val_loss: -1.0000 - val_acc: 0.0000e+00\nEpoch 72/100\n54/54 [==============================] - 0s 6ms/step - loss: -1.0000 - acc: 0.0000e+00 - val_loss: -1.0000 - val_acc: 0.0000e+00\nEpoch 73/100\n54/54 [==============================] - 0s 6ms/step - loss: -1.0000 - acc: 0.0000e+00 - val_loss: -1.0000 - val_acc: 0.0000e+00\nEpoch 74/100\n54/54 [==============================] - 0s 6ms/step - loss: -1.0000 - acc: 0.0000e+00 - val_loss: -1.0000 - val_acc: 0.0000e+00\nEpoch 75/100\n54/54 [==============================] - 0s 6ms/step - loss: -1.0000 - acc: 0.0000e+00 - val_loss: -1.0000 - val_acc: 0.0000e+00\nEpoch 76/100\n54/54 [==============================] - 0s 6ms/step - loss: -1.0000 - acc: 0.0000e+00 - val_loss: -1.0000 - val_acc: 0.0000e+00\nEpoch 77/100\n54/54 [==============================] - 0s 6ms/step - loss: -1.0000 - acc: 0.0000e+00 - val_loss: -1.0000 - val_acc: 0.0000e+00\nEpoch 78/100\n54/54 [==============================] - 0s 6ms/step - loss: -1.0000 - acc: 0.0000e+00 - val_loss: -1.0000 - val_acc: 0.0000e+00\nEpoch 79/100\n54/54 [==============================] - 0s 6ms/step - loss: -1.0000 - acc: 0.0000e+00 - val_loss: -1.0000 - val_acc: 0.0000e+00\nEpoch 80/100\n54/54 [==============================] - 0s 6ms/step - loss: -1.0000 - acc: 0.0000e+00 - val_loss: -1.0000 - val_acc: 0.0000e+00\nEpoch 81/100\n54/54 [==============================] - 0s 6ms/step - loss: -1.0000 - acc: 0.0000e+00 - val_loss: -1.0000 - val_acc: 0.0000e+00\nEpoch 82/100\n54/54 [==============================] - 0s 6ms/step - loss: -1.0000 - acc: 0.0000e+00 - val_loss: -1.0000 - val_acc: 0.0000e+00\nEpoch 83/100\n54/54 [==============================] - 0s 6ms/step - loss: -1.0000 - acc: 0.0000e+00 - val_loss: -1.0000 - val_acc: 0.0000e+00\nEpoch 84/100\n54/54 [==============================] - 0s 6ms/step - loss: -1.0000 - acc: 0.0000e+00 - val_loss: -1.0000 - val_acc: 0.0000e+00\nEpoch 85/100\n54/54 [==============================] - 0s 6ms/step - loss: -1.0000 - acc: 0.0000e+00 - val_loss: -1.0000 - val_acc: 0.0000e+00\nEpoch 86/100\n54/54 [==============================] - 0s 6ms/step - loss: -1.0000 - acc: 0.0000e+00 - val_loss: -1.0000 - val_acc: 0.0000e+00\nEpoch 87/100\n54/54 [==============================] - 0s 6ms/step - loss: -1.0000 - acc: 0.0000e+00 - val_loss: -1.0000 - val_acc: 0.0000e+00\nEpoch 88/100\n54/54 [==============================] - 0s 6ms/step - loss: -1.0000 - acc: 0.0000e+00 - val_loss: -1.0000 - val_acc: 0.0000e+00\nEpoch 89/100\n54/54 [==============================] - 0s 6ms/step - loss: -1.0000 - acc: 0.0000e+00 - val_loss: -1.0000 - val_acc: 0.0000e+00\nEpoch 90/100\n54/54 [==============================] - 0s 6ms/step - loss: -1.0000 - acc: 0.0000e+00 - val_loss: -1.0000 - val_acc: 0.0000e+00\nEpoch 91/100\n54/54 [==============================] - 0s 6ms/step - loss: -1.0000 - acc: 0.0000e+00 - val_loss: -1.0000 - val_acc: 0.0000e+00\nEpoch 92/100\n54/54 [==============================] - 0s 6ms/step - loss: -1.0000 - acc: 0.0000e+00 - val_loss: -1.0000 - val_acc: 0.0000e+00\nEpoch 93/100\n54/54 [==============================] - 0s 6ms/step - loss: -1.0000 - acc: 0.0000e+00 - val_loss: -1.0000 - val_acc: 0.0000e+00\nEpoch 94/100\n54/54 [==============================] - 0s 6ms/step - loss: -1.0000 - acc: 0.0000e+00 - val_loss: -1.0000 - val_acc: 0.0000e+00\nEpoch 95/100\n54/54 [==============================] - 0s 6ms/step - loss: -1.0000 - acc: 0.0000e+00 - val_loss: -1.0000 - val_acc: 0.0000e+00\nEpoch 96/100\n54/54 [==============================] - 0s 6ms/step - loss: -1.0000 - acc: 0.0000e+00 - val_loss: -1.0000 - val_acc: 0.0000e+00\nEpoch 97/100\n54/54 [==============================] - 0s 6ms/step - loss: -1.0000 - acc: 0.0000e+00 - val_loss: -1.0000 - val_acc: 0.0000e+00\nEpoch 98/100\n54/54 [==============================] - 0s 6ms/step - loss: -1.0000 - acc: 0.0000e+00 - val_loss: -1.0000 - val_acc: 0.0000e+00\nEpoch 99/100\n54/54 [==============================] - 0s 6ms/step - loss: -1.0000 - acc: 0.0000e+00 - val_loss: -1.0000 - val_acc: 0.0000e+00\nEpoch 100/100\n54/54 [==============================] - 0s 6ms/step - loss: -1.0000 - acc: 0.0000e+00 - val_loss: -1.0000 - val_acc: 0.0000e+00\n",
          "name": "stdout"
        },
        {
          "output_type": "execute_result",
          "execution_count": 283,
          "data": {
            "text/plain": "<keras.callbacks.History at 0x7f78bb881ac8>"
          },
          "metadata": {}
        }
      ]
    },
    {
      "metadata": {
        "trusted": true,
        "_uuid": "b622722e5fb66203e0e8edb9846ba34766483a51"
      },
      "cell_type": "code",
      "source": "model.predict(x_test)\n",
      "execution_count": 292,
      "outputs": [
        {
          "output_type": "execute_result",
          "execution_count": 292,
          "data": {
            "text/plain": "array([[[0.2810425 , 0.28109732, 0.28110966, ..., 0.28116086,\n         0.28112018, 0.28110608],\n        [0.29935607, 0.29959962, 0.2998051 , ..., 0.29893827,\n         0.29907474, 0.29905173],\n        [0.31032154, 0.31022978, 0.30992028, ..., 0.31038344,\n         0.310261  , 0.3103292 ],\n        ...,\n        [0.3272982 , 0.32738626, 0.32737046, ..., 0.3272065 ,\n         0.32722005, 0.32721117],\n        [0.3273597 , 0.32744834, 0.32742724, ..., 0.3272465 ,\n         0.32726088, 0.327252  ],\n        [0.32740033, 0.32748702, 0.32746175, ..., 0.32726914,\n         0.32728425, 0.32727545]],\n\n       [[0.2810425 , 0.28109732, 0.28110966, ..., 0.28116086,\n         0.28112018, 0.28110608],\n        [0.29935607, 0.29959962, 0.2998051 , ..., 0.29893827,\n         0.29907474, 0.29905173],\n        [0.31032154, 0.31022978, 0.30992028, ..., 0.31038344,\n         0.310261  , 0.3103292 ],\n        ...,\n        [0.3272982 , 0.32738626, 0.32737046, ..., 0.3272065 ,\n         0.32722005, 0.32721117],\n        [0.3273597 , 0.32744834, 0.32742724, ..., 0.3272465 ,\n         0.32726088, 0.327252  ],\n        [0.32740033, 0.32748702, 0.32746175, ..., 0.32726914,\n         0.32728425, 0.32727545]],\n\n       [[0.2810425 , 0.28109732, 0.28110966, ..., 0.28116086,\n         0.28112018, 0.28110608],\n        [0.29935607, 0.29959962, 0.2998051 , ..., 0.29893827,\n         0.29907474, 0.29905173],\n        [0.31032154, 0.31022978, 0.30992028, ..., 0.31038344,\n         0.310261  , 0.3103292 ],\n        ...,\n        [0.3272982 , 0.32738626, 0.32737046, ..., 0.3272065 ,\n         0.32722005, 0.32721117],\n        [0.3273597 , 0.32744834, 0.32742724, ..., 0.3272465 ,\n         0.32726088, 0.327252  ],\n        [0.32740033, 0.32748702, 0.32746175, ..., 0.32726914,\n         0.32728425, 0.32727545]],\n\n       ...,\n\n       [[0.2810425 , 0.28109732, 0.28110966, ..., 0.28116086,\n         0.28112018, 0.28110608],\n        [0.29935607, 0.29959962, 0.2998051 , ..., 0.29893827,\n         0.29907474, 0.29905173],\n        [0.31032154, 0.31022978, 0.30992028, ..., 0.31038344,\n         0.310261  , 0.3103292 ],\n        ...,\n        [0.3272982 , 0.32738626, 0.32737046, ..., 0.3272065 ,\n         0.32722005, 0.32721117],\n        [0.3273597 , 0.32744834, 0.32742724, ..., 0.3272465 ,\n         0.32726088, 0.327252  ],\n        [0.32740033, 0.32748702, 0.32746175, ..., 0.32726914,\n         0.32728425, 0.32727545]],\n\n       [[0.2810425 , 0.28109732, 0.28110966, ..., 0.28116086,\n         0.28112018, 0.28110608],\n        [0.29935607, 0.29959962, 0.2998051 , ..., 0.29893827,\n         0.29907474, 0.29905173],\n        [0.31032154, 0.31022978, 0.30992028, ..., 0.31038344,\n         0.310261  , 0.3103292 ],\n        ...,\n        [0.3272982 , 0.32738626, 0.32737046, ..., 0.3272065 ,\n         0.32722005, 0.32721117],\n        [0.3273597 , 0.32744834, 0.32742724, ..., 0.3272465 ,\n         0.32726088, 0.327252  ],\n        [0.32740033, 0.32748702, 0.32746175, ..., 0.32726914,\n         0.32728425, 0.32727545]],\n\n       [[0.2810425 , 0.28109732, 0.28110966, ..., 0.28116086,\n         0.28112018, 0.28110608],\n        [0.29935607, 0.29959962, 0.2998051 , ..., 0.29893827,\n         0.29907474, 0.29905173],\n        [0.31032154, 0.31022978, 0.30992028, ..., 0.31038344,\n         0.310261  , 0.3103292 ],\n        ...,\n        [0.3272982 , 0.32738626, 0.32737046, ..., 0.3272065 ,\n         0.32722005, 0.32721117],\n        [0.3273597 , 0.32744834, 0.32742724, ..., 0.3272465 ,\n         0.32726088, 0.327252  ],\n        [0.32740033, 0.32748702, 0.32746175, ..., 0.32726914,\n         0.32728425, 0.32727545]]], dtype=float32)"
          },
          "metadata": {}
        }
      ]
    },
    {
      "metadata": {
        "trusted": true,
        "_uuid": "60fec357c81b5785f366035d01a43b5746d2a5ce"
      },
      "cell_type": "code",
      "source": "mod = gensim.models.Word2Vec.load('word2vec.bin');\nx=input(\"Enter the message:\");\nsentend=np.ones((300,),dtype=np.float32) \n\nsent=nltk.word_tokenize(x.lower())\nsentvec = [mod[w] for w in sent if w in mod.wv.vocab]\n\nsentvec[14:]=[]\nsentvec.append(sentend)\nif len(sentvec)<15:\n    for i in range(15-len(sentvec)):\n        sentvec.append(sentend) \nsentvec=np.array([sentvec])\n    \npredictions = model.predict(sentvec)\nprint (predictions)",
      "execution_count": null,
      "outputs": []
    },
    {
      "metadata": {
        "trusted": true,
        "collapsed": true,
        "_uuid": "02055eba3ff798ef2fc79f7e11c1450515b2af88"
      },
      "cell_type": "code",
      "source": "",
      "execution_count": null,
      "outputs": []
    }
  ],
  "metadata": {
    "kernelspec": {
      "display_name": "Python 3",
      "language": "python",
      "name": "python3"
    },
    "language_info": {
      "name": "python",
      "version": "3.6.6",
      "mimetype": "text/x-python",
      "codemirror_mode": {
        "name": "ipython",
        "version": 3
      },
      "pygments_lexer": "ipython3",
      "nbconvert_exporter": "python",
      "file_extension": ".py"
    }
  },
  "nbformat": 4,
  "nbformat_minor": 1
}